{
 "cells": [
  {
   "cell_type": "markdown",
   "metadata": {},
   "source": [
    "## Test your Sroka set up"
   ]
  },
  {
   "cell_type": "markdown",
   "metadata": {},
   "source": [
    "The purpose of this notebook is to check whether you are able to connect with given API's that Sroka provides and that your credentials are correctly saved in config.ini file.\n",
    "\n",
    "Where it is possible, we have provided a generic query, however some API's require to pass id's in order to get any results. In that case please define the variables' values first."
   ]
  },
  {
   "cell_type": "code",
   "execution_count": 1,
   "metadata": {},
   "outputs": [],
   "source": [
    "# GA API\n",
    "from sroka.api.ga.ga import ga_request\n",
    "# GAM API\n",
    "from sroka.api.google_ad_manager.gam_api import get_data_from_admanager\n",
    "# Qubole API (first of the options)\n",
    "from sroka.api.qubole.query_result_file import get \n",
    "# Qubole API (second of the options)\n",
    "from sroka.api.qubole.qubole_api import done_qubole, request_qubole\n",
    "# MOAT API\n",
    "from sroka.api.moat.moat_api import get_data_from_moat\n",
    "# Rubicon API\n",
    "from sroka.api.rubicon.rubicon_api import get_data_from_rubicon\n",
    "# Athena API\n",
    "from sroka.api.athena.athena_api import query_athena, done_athena\n",
    "# Google sheets API\n",
    "from sroka.api.google_drive.google_drive_api import google_drive_sheets_read, \\\n",
    "    google_drive_sheets_create, google_drive_sheets_write, google_drive_sheets_upload\n",
    "# S3 API\n",
    "from sroka.api.s3_connection.s3_connection_api import s3_download_data, s3_upload_data\n",
    "# MySQL API\n",
    "from sroka.api.mysql.mysql import query_mysql\n",
    "\n",
    "# data wrangling\n",
    "import numpy as np"
   ]
  },
  {
   "cell_type": "markdown",
   "metadata": {},
   "source": [
    "## Athena"
   ]
  },
  {
   "cell_type": "code",
   "execution_count": null,
   "metadata": {},
   "outputs": [],
   "source": [
    "df = query_athena(\"\"\"\n",
    "    SELECT '2019-03-01' as date\n",
    "    \"\"\")\n",
    "\n",
    "df"
   ]
  },
  {
   "cell_type": "markdown",
   "metadata": {},
   "source": [
    "## S3"
   ]
  },
  {
   "cell_type": "code",
   "execution_count": null,
   "metadata": {},
   "outputs": [],
   "source": [
    "# input a path to data on your s3, it is needed to perform any query\n",
    "s3_folder = ''\n",
    "\n",
    "s3_download_data('s3://{}'.format(s3_folder), prefix=True, sep=';')"
   ]
  },
  {
   "cell_type": "code",
   "execution_count": null,
   "metadata": {},
   "outputs": [],
   "source": [
    "# input bucket name and file path on your s3, it is needed to perform any query\n",
    "s3_bucket = ''\n",
    "s3_file_path = ''\n",
    "\n",
    "# create a test array\n",
    "arr = np.array(([1,2,3,4], [4,3,2,1]))"
   ]
  },
  {
   "cell_type": "code",
   "execution_count": null,
   "metadata": {},
   "outputs": [],
   "source": [
    "s3_upload_data(arr, bucket=s3_bucket, path=s3_file_path)"
   ]
  },
  {
   "cell_type": "markdown",
   "metadata": {},
   "source": [
    "## Google Ad Manager"
   ]
  },
  {
   "cell_type": "code",
   "execution_count": null,
   "metadata": {},
   "outputs": [],
   "source": [
    "start_day = '01'\n",
    "end_day='04'\n",
    "start_month = '03'\n",
    "end_month = '03'\n",
    "year = '2019'\n",
    "\n",
    "query = \"\"\n",
    "dimensions = ['DATE']\n",
    "columns = ['TOTAL_ACTIVE_VIEW_MEASURABLE_IMPRESSIONS',\n",
    "           'TOTAL_ACTIVE_VIEW_VIEWABLE_IMPRESSIONS']\n",
    "start_date = {'year': year,\n",
    "              'month': start_month,\n",
    "              'day': start_day}\n",
    "stop_date = {'year': year,\n",
    "             'month': end_month,\n",
    "             'day': end_day}\n",
    "\n",
    "df_gam = get_data_from_admanager(query, dimensions, columns, start_date, stop_date)\n",
    "df_gam.head()"
   ]
  },
  {
   "cell_type": "markdown",
   "metadata": {},
   "source": [
    "## Google Analytics"
   ]
  },
  {
   "cell_type": "code",
   "execution_count": null,
   "metadata": {},
   "outputs": [],
   "source": [
    "# your account id, it is needed to perform any query\n",
    "your_id = ''\n",
    "\n",
    "request = {\n",
    "\"ids\" : \"ga:{}\".format(your_id),\n",
    "\"start_date\" : \"2019-03-01\",\n",
    "\"end_date\" : \"2019-03-04\",\n",
    "\"metrics\" : \"ga:pageviews\",\n",
    "\"filters\" : \"ga:country==Poland\",\n",
    "\"segment\" : \"\",\n",
    "\"dimensions\" : \"ga:day\"\n",
    "}\n",
    "\n",
    "df_ga = ga_request(request, print_sample_size=True, sampling_level='FASTER')\n",
    "df_ga.head()"
   ]
  },
  {
   "cell_type": "markdown",
   "metadata": {},
   "source": [
    "## Google Sheets"
   ]
  },
  {
   "cell_type": "code",
   "execution_count": null,
   "metadata": {},
   "outputs": [],
   "source": [
    "new_sheet = google_drive_sheets_create('new_sheet')\n",
    "\n",
    "google_drive_sheets_write(df, new_sheet)"
   ]
  },
  {
   "cell_type": "markdown",
   "metadata": {},
   "source": [
    "## Moat"
   ]
  },
  {
   "cell_type": "code",
   "execution_count": null,
   "metadata": {},
   "outputs": [],
   "source": [
    "input_data_moat = {\n",
    "    'start' : '20190301',\n",
    "    'end' : '20190304',\n",
    "    'columns' : ['date','impressions_analyzed']\n",
    "}\n",
    "\n",
    "df_moat = get_data_from_moat(input_data_moat, 'moat')\n",
    "df_moat.head()"
   ]
  },
  {
   "cell_type": "markdown",
   "metadata": {},
   "source": [
    "## Qubole"
   ]
  },
  {
   "cell_type": "code",
   "execution_count": null,
   "metadata": {},
   "outputs": [],
   "source": [
    "presto_query = \"\"\"\n",
    "        SELECT '2019-03-01' as date;\n",
    "        \"\"\"\n",
    "\n",
    "data_presto = request_qubole(presto_query, query_type='hive')\n",
    "data_presto.head()"
   ]
  },
  {
   "cell_type": "markdown",
   "metadata": {},
   "source": [
    "## Rubicon"
   ]
  },
  {
   "cell_type": "code",
   "execution_count": null,
   "metadata": {},
   "outputs": [],
   "source": [
    "input_data = {\n",
    "    'start' : '2018-08-23T00:00:00-07:00',\n",
    "    'end' : '2018-08-23T23:59:59-07:00',\n",
    "    'dimensions' : ['date', 'advertiser'],\n",
    "    'metrics' : ['paid_impression',\n",
    "                 'starts',\n",
    "                 'completes'\n",
    "                ],\n",
    "    'filters' : ['dimension:country_id==PL'\n",
    "                ]\n",
    "}\n",
    "\n",
    "\n",
    "data = get_data_from_rubicon(input_data)\n",
    "data.head()"
   ]
  },
  {
   "cell_type": "markdown",
   "metadata": {},
   "source": [
    "## MySQL"
   ]
  },
  {
   "cell_type": "code",
   "execution_count": null,
   "metadata": {},
   "outputs": [],
   "source": [
    "df = query_mysql(\"SELECT * FROM clan LIMIT 10\")\n",
    "df.head()"
   ]
  },
  {
   "cell_type": "code",
   "execution_count": null,
   "metadata": {},
   "outputs": [],
   "source": []
  }
 ],
 "metadata": {
  "kernelspec": {
   "display_name": "Python 3",
   "language": "python",
   "name": "python3"
  },
  "language_info": {
   "codemirror_mode": {
    "name": "ipython",
    "version": 3
   },
   "file_extension": ".py",
   "mimetype": "text/x-python",
   "name": "python",
   "nbconvert_exporter": "python",
   "pygments_lexer": "ipython3",
   "version": "3.7.4"
  }
 },
 "nbformat": 4,
 "nbformat_minor": 2
}
